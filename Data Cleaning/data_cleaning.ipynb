{
  "nbformat": 4,
  "nbformat_minor": 0,
  "metadata": {
    "colab": {
      "name": "Rohit_IPL.ipynb",
      "provenance": [],
      "collapsed_sections": []
    },
    "kernelspec": {
      "name": "python3",
      "display_name": "Python 3"
    },
    "language_info": {
      "name": "python"
    }
  },
  "cells": [
    {
      "cell_type": "code",
      "execution_count": null,
      "metadata": {
        "colab": {
          "base_uri": "https://localhost:8080/",
          "height": 206
        },
        "id": "cBjhT7LewkBb",
        "outputId": "f793a864-0c64-4c4d-e428-7e3b9c69b075"
      },
      "outputs": [
        {
          "output_type": "execute_result",
          "data": {
            "text/plain": [
              "   Id         Date                  Versus  \\\n",
              "0   1  20/04/2008   Kolkata Knight Riders    \n",
              "1   2  22/04/2008          Delhi Capitals    \n",
              "2   3  24/04/2008        Rajasthan Royals    \n",
              "3   4  27/04/2008          Mumbai Indians    \n",
              "4   5  01/05/2008            Punjab Kings    \n",
              "\n",
              "                                Ground D/N              How Dismissed Runs  \\\n",
              "0                        Eden Gardens    ✓    c †W P Saha b M Kartik     0   \n",
              "1  Rajiv Gandhi International Stadium    ✓  c G D McGrath b R Bhatia    66   \n",
              "2  Rajiv Gandhi International Stadium    ✓  c D Salunkhe b S K Warne    36   \n",
              "3          Dr DY Patil Sports Academy    ✓               did not bat     -   \n",
              "4  Rajiv Gandhi International Stadium    ✓                   not out   76*   \n",
              "\n",
              "  B/F     S/R     Aggr    Avg   S/R.1  \n",
              "0   3    0.00        0   0.00    0.00  \n",
              "1  36  183.33       66  33.00  169.23  \n",
              "2  30  120.00      102  34.00  147.83  \n",
              "3   -       -      102  34.00  147.83  \n",
              "4  42  180.95      178  59.33  160.36  "
            ],
            "text/html": [
              "\n",
              "  <div id=\"df-1cc38d0a-b579-47b4-b73a-7cd37c0ca874\">\n",
              "    <div class=\"colab-df-container\">\n",
              "      <div>\n",
              "<style scoped>\n",
              "    .dataframe tbody tr th:only-of-type {\n",
              "        vertical-align: middle;\n",
              "    }\n",
              "\n",
              "    .dataframe tbody tr th {\n",
              "        vertical-align: top;\n",
              "    }\n",
              "\n",
              "    .dataframe thead th {\n",
              "        text-align: right;\n",
              "    }\n",
              "</style>\n",
              "<table border=\"1\" class=\"dataframe\">\n",
              "  <thead>\n",
              "    <tr style=\"text-align: right;\">\n",
              "      <th></th>\n",
              "      <th>Id</th>\n",
              "      <th>Date</th>\n",
              "      <th>Versus</th>\n",
              "      <th>Ground</th>\n",
              "      <th>D/N</th>\n",
              "      <th>How Dismissed</th>\n",
              "      <th>Runs</th>\n",
              "      <th>B/F</th>\n",
              "      <th>S/R</th>\n",
              "      <th></th>\n",
              "      <th>Aggr</th>\n",
              "      <th>Avg</th>\n",
              "      <th>S/R.1</th>\n",
              "    </tr>\n",
              "  </thead>\n",
              "  <tbody>\n",
              "    <tr>\n",
              "      <th>0</th>\n",
              "      <td>1</td>\n",
              "      <td>20/04/2008</td>\n",
              "      <td>Kolkata Knight Riders</td>\n",
              "      <td>Eden Gardens</td>\n",
              "      <td>✓</td>\n",
              "      <td>c †W P Saha b M Kartik</td>\n",
              "      <td>0</td>\n",
              "      <td>3</td>\n",
              "      <td>0.00</td>\n",
              "      <td></td>\n",
              "      <td>0</td>\n",
              "      <td>0.00</td>\n",
              "      <td>0.00</td>\n",
              "    </tr>\n",
              "    <tr>\n",
              "      <th>1</th>\n",
              "      <td>2</td>\n",
              "      <td>22/04/2008</td>\n",
              "      <td>Delhi Capitals</td>\n",
              "      <td>Rajiv Gandhi International Stadium</td>\n",
              "      <td>✓</td>\n",
              "      <td>c G D McGrath b R Bhatia</td>\n",
              "      <td>66</td>\n",
              "      <td>36</td>\n",
              "      <td>183.33</td>\n",
              "      <td></td>\n",
              "      <td>66</td>\n",
              "      <td>33.00</td>\n",
              "      <td>169.23</td>\n",
              "    </tr>\n",
              "    <tr>\n",
              "      <th>2</th>\n",
              "      <td>3</td>\n",
              "      <td>24/04/2008</td>\n",
              "      <td>Rajasthan Royals</td>\n",
              "      <td>Rajiv Gandhi International Stadium</td>\n",
              "      <td>✓</td>\n",
              "      <td>c D Salunkhe b S K Warne</td>\n",
              "      <td>36</td>\n",
              "      <td>30</td>\n",
              "      <td>120.00</td>\n",
              "      <td></td>\n",
              "      <td>102</td>\n",
              "      <td>34.00</td>\n",
              "      <td>147.83</td>\n",
              "    </tr>\n",
              "    <tr>\n",
              "      <th>3</th>\n",
              "      <td>4</td>\n",
              "      <td>27/04/2008</td>\n",
              "      <td>Mumbai Indians</td>\n",
              "      <td>Dr DY Patil Sports Academy</td>\n",
              "      <td>✓</td>\n",
              "      <td>did not bat</td>\n",
              "      <td>-</td>\n",
              "      <td>-</td>\n",
              "      <td>-</td>\n",
              "      <td></td>\n",
              "      <td>102</td>\n",
              "      <td>34.00</td>\n",
              "      <td>147.83</td>\n",
              "    </tr>\n",
              "    <tr>\n",
              "      <th>4</th>\n",
              "      <td>5</td>\n",
              "      <td>01/05/2008</td>\n",
              "      <td>Punjab Kings</td>\n",
              "      <td>Rajiv Gandhi International Stadium</td>\n",
              "      <td>✓</td>\n",
              "      <td>not out</td>\n",
              "      <td>76*</td>\n",
              "      <td>42</td>\n",
              "      <td>180.95</td>\n",
              "      <td></td>\n",
              "      <td>178</td>\n",
              "      <td>59.33</td>\n",
              "      <td>160.36</td>\n",
              "    </tr>\n",
              "  </tbody>\n",
              "</table>\n",
              "</div>\n",
              "      <button class=\"colab-df-convert\" onclick=\"convertToInteractive('df-1cc38d0a-b579-47b4-b73a-7cd37c0ca874')\"\n",
              "              title=\"Convert this dataframe to an interactive table.\"\n",
              "              style=\"display:none;\">\n",
              "        \n",
              "  <svg xmlns=\"http://www.w3.org/2000/svg\" height=\"24px\"viewBox=\"0 0 24 24\"\n",
              "       width=\"24px\">\n",
              "    <path d=\"M0 0h24v24H0V0z\" fill=\"none\"/>\n",
              "    <path d=\"M18.56 5.44l.94 2.06.94-2.06 2.06-.94-2.06-.94-.94-2.06-.94 2.06-2.06.94zm-11 1L8.5 8.5l.94-2.06 2.06-.94-2.06-.94L8.5 2.5l-.94 2.06-2.06.94zm10 10l.94 2.06.94-2.06 2.06-.94-2.06-.94-.94-2.06-.94 2.06-2.06.94z\"/><path d=\"M17.41 7.96l-1.37-1.37c-.4-.4-.92-.59-1.43-.59-.52 0-1.04.2-1.43.59L10.3 9.45l-7.72 7.72c-.78.78-.78 2.05 0 2.83L4 21.41c.39.39.9.59 1.41.59.51 0 1.02-.2 1.41-.59l7.78-7.78 2.81-2.81c.8-.78.8-2.07 0-2.86zM5.41 20L4 18.59l7.72-7.72 1.47 1.35L5.41 20z\"/>\n",
              "  </svg>\n",
              "      </button>\n",
              "      \n",
              "  <style>\n",
              "    .colab-df-container {\n",
              "      display:flex;\n",
              "      flex-wrap:wrap;\n",
              "      gap: 12px;\n",
              "    }\n",
              "\n",
              "    .colab-df-convert {\n",
              "      background-color: #E8F0FE;\n",
              "      border: none;\n",
              "      border-radius: 50%;\n",
              "      cursor: pointer;\n",
              "      display: none;\n",
              "      fill: #1967D2;\n",
              "      height: 32px;\n",
              "      padding: 0 0 0 0;\n",
              "      width: 32px;\n",
              "    }\n",
              "\n",
              "    .colab-df-convert:hover {\n",
              "      background-color: #E2EBFA;\n",
              "      box-shadow: 0px 1px 2px rgba(60, 64, 67, 0.3), 0px 1px 3px 1px rgba(60, 64, 67, 0.15);\n",
              "      fill: #174EA6;\n",
              "    }\n",
              "\n",
              "    [theme=dark] .colab-df-convert {\n",
              "      background-color: #3B4455;\n",
              "      fill: #D2E3FC;\n",
              "    }\n",
              "\n",
              "    [theme=dark] .colab-df-convert:hover {\n",
              "      background-color: #434B5C;\n",
              "      box-shadow: 0px 1px 3px 1px rgba(0, 0, 0, 0.15);\n",
              "      filter: drop-shadow(0px 1px 2px rgba(0, 0, 0, 0.3));\n",
              "      fill: #FFFFFF;\n",
              "    }\n",
              "  </style>\n",
              "\n",
              "      <script>\n",
              "        const buttonEl =\n",
              "          document.querySelector('#df-1cc38d0a-b579-47b4-b73a-7cd37c0ca874 button.colab-df-convert');\n",
              "        buttonEl.style.display =\n",
              "          google.colab.kernel.accessAllowed ? 'block' : 'none';\n",
              "\n",
              "        async function convertToInteractive(key) {\n",
              "          const element = document.querySelector('#df-1cc38d0a-b579-47b4-b73a-7cd37c0ca874');\n",
              "          const dataTable =\n",
              "            await google.colab.kernel.invokeFunction('convertToInteractive',\n",
              "                                                     [key], {});\n",
              "          if (!dataTable) return;\n",
              "\n",
              "          const docLinkHtml = 'Like what you see? Visit the ' +\n",
              "            '<a target=\"_blank\" href=https://colab.research.google.com/notebooks/data_table.ipynb>data table notebook</a>'\n",
              "            + ' to learn more about interactive tables.';\n",
              "          element.innerHTML = '';\n",
              "          dataTable['output_type'] = 'display_data';\n",
              "          await google.colab.output.renderOutput(dataTable, element);\n",
              "          const docLink = document.createElement('div');\n",
              "          docLink.innerHTML = docLinkHtml;\n",
              "          element.appendChild(docLink);\n",
              "        }\n",
              "      </script>\n",
              "    </div>\n",
              "  </div>\n",
              "  "
            ]
          },
          "metadata": {},
          "execution_count": 24
        }
      ],
      "source": [
        "import pandas as pd\n",
        "import numpy as np\n",
        "\n",
        "ipl=pd.read_csv(\"/content/Rohit_Sharma_IPL.csv\")\n",
        "ipl.head()"
      ]
    },
    {
      "cell_type": "code",
      "source": [
        "ipl.columns"
      ],
      "metadata": {
        "colab": {
          "base_uri": "https://localhost:8080/"
        },
        "id": "jsbUCacr_PI1",
        "outputId": "18ded66f-732e-489f-c479-38c3f32ee2a8"
      },
      "execution_count": null,
      "outputs": [
        {
          "output_type": "execute_result",
          "data": {
            "text/plain": [
              "Index(['Id', 'Date', 'Versus', 'Ground', 'D/N', 'How Dismissed', 'Runs', 'B/F',\n",
              "       'S/R', ' ', 'Aggr', 'Avg', 'S/R.1'],\n",
              "      dtype='object')"
            ]
          },
          "metadata": {},
          "execution_count": 25
        }
      ]
    },
    {
      "cell_type": "code",
      "source": [
        "ipl.nunique()"
      ],
      "metadata": {
        "colab": {
          "base_uri": "https://localhost:8080/"
        },
        "id": "ft1LJhz3_SKo",
        "outputId": "25332c98-08e9-47c3-9f07-10f999058c03"
      },
      "execution_count": null,
      "outputs": [
        {
          "output_type": "execute_result",
          "data": {
            "text/plain": [
              "Id               213\n",
              "Date             213\n",
              "Versus            13\n",
              "Ground            29\n",
              "D/N                1\n",
              "How Dismissed    167\n",
              "Runs              91\n",
              "B/F               56\n",
              "S/R              142\n",
              "                   1\n",
              "Aggr             196\n",
              "Avg              161\n",
              "S/R.1            157\n",
              "dtype: int64"
            ]
          },
          "metadata": {},
          "execution_count": 26
        }
      ]
    },
    {
      "cell_type": "code",
      "source": [
        "empty_cols=[col for col in ipl.columns if col==\" \"]\n",
        "empty_cols"
      ],
      "metadata": {
        "colab": {
          "base_uri": "https://localhost:8080/"
        },
        "id": "uqSmSImd_WDo",
        "outputId": "969edb33-9e30-4c17-dc56-e8f1f7012baf"
      },
      "execution_count": null,
      "outputs": [
        {
          "output_type": "execute_result",
          "data": {
            "text/plain": [
              "[' ']"
            ]
          },
          "metadata": {},
          "execution_count": 27
        }
      ]
    },
    {
      "cell_type": "code",
      "source": [
        "ipl.drop(ipl[empty_cols],axis=1,inplace=True)"
      ],
      "metadata": {
        "id": "HIkoF2WIAKZp"
      },
      "execution_count": null,
      "outputs": []
    },
    {
      "cell_type": "code",
      "source": [
        "ipl.columns"
      ],
      "metadata": {
        "colab": {
          "base_uri": "https://localhost:8080/"
        },
        "id": "YDf0SA4FAQeU",
        "outputId": "74c7711b-84c0-416d-873d-100079c7ded0"
      },
      "execution_count": null,
      "outputs": [
        {
          "output_type": "execute_result",
          "data": {
            "text/plain": [
              "Index(['Id', 'Date', 'Versus', 'Ground', 'D/N', 'How Dismissed', 'Runs', 'B/F',\n",
              "       'S/R', 'Aggr', 'Avg', 'S/R.1'],\n",
              "      dtype='object')"
            ]
          },
          "metadata": {},
          "execution_count": 29
        }
      ]
    },
    {
      "cell_type": "code",
      "source": [
        "ipl.drop(ipl[['Aggr', 'Avg', 'S/R.1']],axis=1,inplace=True)"
      ],
      "metadata": {
        "id": "svLrFYyNAR6U"
      },
      "execution_count": null,
      "outputs": []
    },
    {
      "cell_type": "code",
      "source": [
        "first_letter=ipl['How Dismissed'].str[0]\n",
        "first_letter"
      ],
      "metadata": {
        "colab": {
          "base_uri": "https://localhost:8080/"
        },
        "id": "KadO2VHsBW6V",
        "outputId": "5a4570e1-d59c-4600-d903-74ccf8e42f47"
      },
      "execution_count": null,
      "outputs": [
        {
          "output_type": "execute_result",
          "data": {
            "text/plain": [
              "0      c\n",
              "1      c\n",
              "2      c\n",
              "3      d\n",
              "4      n\n",
              "      ..\n",
              "208    c\n",
              "209    c\n",
              "210    c\n",
              "211    c\n",
              "212    c\n",
              "Name: How Dismissed, Length: 213, dtype: object"
            ]
          },
          "metadata": {},
          "execution_count": 31
        }
      ]
    },
    {
      "cell_type": "code",
      "source": [
        "ipl[['Fielder','Bowler']]= ipl['How Dismissed'].str.split(' b |b ',n=1,expand=True)\n",
        "ipl['Bowler']"
      ],
      "metadata": {
        "colab": {
          "base_uri": "https://localhost:8080/"
        },
        "id": "yQ43S2oBCJbl",
        "outputId": "1b185cb1-d24d-4236-ec3c-62c731e46772"
      },
      "execution_count": null,
      "outputs": [
        {
          "output_type": "execute_result",
          "data": {
            "text/plain": [
              "0          M Kartik \n",
              "1          R Bhatia \n",
              "2         S K Warne \n",
              "3               None\n",
              "4               None\n",
              "           ...      \n",
              "208     G J Maxwell \n",
              "209    Ravi Bishnoi \n",
              "210      Avesh Khan \n",
              "211      C Sakariya \n",
              "212     Rashid Khan \n",
              "Name: Bowler, Length: 213, dtype: object"
            ]
          },
          "metadata": {},
          "execution_count": 32
        }
      ]
    },
    {
      "cell_type": "code",
      "source": [
        "ipl.dtypes"
      ],
      "metadata": {
        "id": "FWgya_XdDelW",
        "colab": {
          "base_uri": "https://localhost:8080/"
        },
        "outputId": "db5ddacc-4a55-448c-8620-8698958d7c9a"
      },
      "execution_count": null,
      "outputs": [
        {
          "output_type": "execute_result",
          "data": {
            "text/plain": [
              "Id                int64\n",
              "Date             object\n",
              "Versus           object\n",
              "Ground           object\n",
              "D/N              object\n",
              "How Dismissed    object\n",
              "Runs             object\n",
              "B/F              object\n",
              "S/R              object\n",
              "Fielder          object\n",
              "Bowler           object\n",
              "dtype: object"
            ]
          },
          "metadata": {},
          "execution_count": 33
        }
      ]
    },
    {
      "cell_type": "code",
      "source": [
        "ipl['Date'] = pd.to_datetime(ipl['Date'], errors='coerce')"
      ],
      "metadata": {
        "id": "iaiNZ56JCm2h"
      },
      "execution_count": null,
      "outputs": []
    },
    {
      "cell_type": "code",
      "source": [
        "ipl['Year'] = ipl['Date'].dt.year"
      ],
      "metadata": {
        "id": "RBJ432VmDW2y"
      },
      "execution_count": null,
      "outputs": []
    },
    {
      "cell_type": "code",
      "source": [
        "ipl['How Dismissed'][0]"
      ],
      "metadata": {
        "id": "Q3L-D-7sUMAh",
        "colab": {
          "base_uri": "https://localhost:8080/",
          "height": 35
        },
        "outputId": "384598f8-1941-4068-99e8-b2fe6e47e754"
      },
      "execution_count": null,
      "outputs": [
        {
          "output_type": "execute_result",
          "data": {
            "text/plain": [
              "'c †W P Saha b M Kartik '"
            ],
            "application/vnd.google.colaboratory.intrinsic+json": {
              "type": "string"
            }
          },
          "metadata": {},
          "execution_count": 36
        }
      ]
    },
    {
      "cell_type": "code",
      "source": [
        "ipl.head()"
      ],
      "metadata": {
        "id": "KR0iKKoHDv4G",
        "colab": {
          "base_uri": "https://localhost:8080/",
          "height": 250
        },
        "outputId": "a88c95b8-e0c6-4522-b84a-ed8561c1a7cf"
      },
      "execution_count": null,
      "outputs": [
        {
          "output_type": "execute_result",
          "data": {
            "text/plain": [
              "   Id       Date                  Versus                               Ground  \\\n",
              "0   1 2008-04-20  Kolkata Knight Riders                         Eden Gardens    \n",
              "1   2 2008-04-22         Delhi Capitals   Rajiv Gandhi International Stadium    \n",
              "2   3 2008-04-24       Rajasthan Royals   Rajiv Gandhi International Stadium    \n",
              "3   4 2008-04-27         Mumbai Indians           Dr DY Patil Sports Academy    \n",
              "4   5 2008-01-05           Punjab Kings   Rajiv Gandhi International Stadium    \n",
              "\n",
              "  D/N              How Dismissed Runs B/F     S/R        Fielder      Bowler  \\\n",
              "0   ✓    c †W P Saha b M Kartik     0   3    0.00    c †W P Saha   M Kartik    \n",
              "1   ✓  c G D McGrath b R Bhatia    66  36  183.33  c G D McGrath   R Bhatia    \n",
              "2   ✓  c D Salunkhe b S K Warne    36  30  120.00   c D Salunkhe  S K Warne    \n",
              "3   ✓               did not bat     -   -       -   did not bat         None   \n",
              "4   ✓                   not out   76*  42  180.95       not out         None   \n",
              "\n",
              "   Year  \n",
              "0  2008  \n",
              "1  2008  \n",
              "2  2008  \n",
              "3  2008  \n",
              "4  2008  "
            ],
            "text/html": [
              "\n",
              "  <div id=\"df-2e6297cc-abd5-43de-bade-1b745cdbd47e\">\n",
              "    <div class=\"colab-df-container\">\n",
              "      <div>\n",
              "<style scoped>\n",
              "    .dataframe tbody tr th:only-of-type {\n",
              "        vertical-align: middle;\n",
              "    }\n",
              "\n",
              "    .dataframe tbody tr th {\n",
              "        vertical-align: top;\n",
              "    }\n",
              "\n",
              "    .dataframe thead th {\n",
              "        text-align: right;\n",
              "    }\n",
              "</style>\n",
              "<table border=\"1\" class=\"dataframe\">\n",
              "  <thead>\n",
              "    <tr style=\"text-align: right;\">\n",
              "      <th></th>\n",
              "      <th>Id</th>\n",
              "      <th>Date</th>\n",
              "      <th>Versus</th>\n",
              "      <th>Ground</th>\n",
              "      <th>D/N</th>\n",
              "      <th>How Dismissed</th>\n",
              "      <th>Runs</th>\n",
              "      <th>B/F</th>\n",
              "      <th>S/R</th>\n",
              "      <th>Fielder</th>\n",
              "      <th>Bowler</th>\n",
              "      <th>Year</th>\n",
              "    </tr>\n",
              "  </thead>\n",
              "  <tbody>\n",
              "    <tr>\n",
              "      <th>0</th>\n",
              "      <td>1</td>\n",
              "      <td>2008-04-20</td>\n",
              "      <td>Kolkata Knight Riders</td>\n",
              "      <td>Eden Gardens</td>\n",
              "      <td>✓</td>\n",
              "      <td>c †W P Saha b M Kartik</td>\n",
              "      <td>0</td>\n",
              "      <td>3</td>\n",
              "      <td>0.00</td>\n",
              "      <td>c †W P Saha</td>\n",
              "      <td>M Kartik</td>\n",
              "      <td>2008</td>\n",
              "    </tr>\n",
              "    <tr>\n",
              "      <th>1</th>\n",
              "      <td>2</td>\n",
              "      <td>2008-04-22</td>\n",
              "      <td>Delhi Capitals</td>\n",
              "      <td>Rajiv Gandhi International Stadium</td>\n",
              "      <td>✓</td>\n",
              "      <td>c G D McGrath b R Bhatia</td>\n",
              "      <td>66</td>\n",
              "      <td>36</td>\n",
              "      <td>183.33</td>\n",
              "      <td>c G D McGrath</td>\n",
              "      <td>R Bhatia</td>\n",
              "      <td>2008</td>\n",
              "    </tr>\n",
              "    <tr>\n",
              "      <th>2</th>\n",
              "      <td>3</td>\n",
              "      <td>2008-04-24</td>\n",
              "      <td>Rajasthan Royals</td>\n",
              "      <td>Rajiv Gandhi International Stadium</td>\n",
              "      <td>✓</td>\n",
              "      <td>c D Salunkhe b S K Warne</td>\n",
              "      <td>36</td>\n",
              "      <td>30</td>\n",
              "      <td>120.00</td>\n",
              "      <td>c D Salunkhe</td>\n",
              "      <td>S K Warne</td>\n",
              "      <td>2008</td>\n",
              "    </tr>\n",
              "    <tr>\n",
              "      <th>3</th>\n",
              "      <td>4</td>\n",
              "      <td>2008-04-27</td>\n",
              "      <td>Mumbai Indians</td>\n",
              "      <td>Dr DY Patil Sports Academy</td>\n",
              "      <td>✓</td>\n",
              "      <td>did not bat</td>\n",
              "      <td>-</td>\n",
              "      <td>-</td>\n",
              "      <td>-</td>\n",
              "      <td>did not bat</td>\n",
              "      <td>None</td>\n",
              "      <td>2008</td>\n",
              "    </tr>\n",
              "    <tr>\n",
              "      <th>4</th>\n",
              "      <td>5</td>\n",
              "      <td>2008-01-05</td>\n",
              "      <td>Punjab Kings</td>\n",
              "      <td>Rajiv Gandhi International Stadium</td>\n",
              "      <td>✓</td>\n",
              "      <td>not out</td>\n",
              "      <td>76*</td>\n",
              "      <td>42</td>\n",
              "      <td>180.95</td>\n",
              "      <td>not out</td>\n",
              "      <td>None</td>\n",
              "      <td>2008</td>\n",
              "    </tr>\n",
              "  </tbody>\n",
              "</table>\n",
              "</div>\n",
              "      <button class=\"colab-df-convert\" onclick=\"convertToInteractive('df-2e6297cc-abd5-43de-bade-1b745cdbd47e')\"\n",
              "              title=\"Convert this dataframe to an interactive table.\"\n",
              "              style=\"display:none;\">\n",
              "        \n",
              "  <svg xmlns=\"http://www.w3.org/2000/svg\" height=\"24px\"viewBox=\"0 0 24 24\"\n",
              "       width=\"24px\">\n",
              "    <path d=\"M0 0h24v24H0V0z\" fill=\"none\"/>\n",
              "    <path d=\"M18.56 5.44l.94 2.06.94-2.06 2.06-.94-2.06-.94-.94-2.06-.94 2.06-2.06.94zm-11 1L8.5 8.5l.94-2.06 2.06-.94-2.06-.94L8.5 2.5l-.94 2.06-2.06.94zm10 10l.94 2.06.94-2.06 2.06-.94-2.06-.94-.94-2.06-.94 2.06-2.06.94z\"/><path d=\"M17.41 7.96l-1.37-1.37c-.4-.4-.92-.59-1.43-.59-.52 0-1.04.2-1.43.59L10.3 9.45l-7.72 7.72c-.78.78-.78 2.05 0 2.83L4 21.41c.39.39.9.59 1.41.59.51 0 1.02-.2 1.41-.59l7.78-7.78 2.81-2.81c.8-.78.8-2.07 0-2.86zM5.41 20L4 18.59l7.72-7.72 1.47 1.35L5.41 20z\"/>\n",
              "  </svg>\n",
              "      </button>\n",
              "      \n",
              "  <style>\n",
              "    .colab-df-container {\n",
              "      display:flex;\n",
              "      flex-wrap:wrap;\n",
              "      gap: 12px;\n",
              "    }\n",
              "\n",
              "    .colab-df-convert {\n",
              "      background-color: #E8F0FE;\n",
              "      border: none;\n",
              "      border-radius: 50%;\n",
              "      cursor: pointer;\n",
              "      display: none;\n",
              "      fill: #1967D2;\n",
              "      height: 32px;\n",
              "      padding: 0 0 0 0;\n",
              "      width: 32px;\n",
              "    }\n",
              "\n",
              "    .colab-df-convert:hover {\n",
              "      background-color: #E2EBFA;\n",
              "      box-shadow: 0px 1px 2px rgba(60, 64, 67, 0.3), 0px 1px 3px 1px rgba(60, 64, 67, 0.15);\n",
              "      fill: #174EA6;\n",
              "    }\n",
              "\n",
              "    [theme=dark] .colab-df-convert {\n",
              "      background-color: #3B4455;\n",
              "      fill: #D2E3FC;\n",
              "    }\n",
              "\n",
              "    [theme=dark] .colab-df-convert:hover {\n",
              "      background-color: #434B5C;\n",
              "      box-shadow: 0px 1px 3px 1px rgba(0, 0, 0, 0.15);\n",
              "      filter: drop-shadow(0px 1px 2px rgba(0, 0, 0, 0.3));\n",
              "      fill: #FFFFFF;\n",
              "    }\n",
              "  </style>\n",
              "\n",
              "      <script>\n",
              "        const buttonEl =\n",
              "          document.querySelector('#df-2e6297cc-abd5-43de-bade-1b745cdbd47e button.colab-df-convert');\n",
              "        buttonEl.style.display =\n",
              "          google.colab.kernel.accessAllowed ? 'block' : 'none';\n",
              "\n",
              "        async function convertToInteractive(key) {\n",
              "          const element = document.querySelector('#df-2e6297cc-abd5-43de-bade-1b745cdbd47e');\n",
              "          const dataTable =\n",
              "            await google.colab.kernel.invokeFunction('convertToInteractive',\n",
              "                                                     [key], {});\n",
              "          if (!dataTable) return;\n",
              "\n",
              "          const docLinkHtml = 'Like what you see? Visit the ' +\n",
              "            '<a target=\"_blank\" href=https://colab.research.google.com/notebooks/data_table.ipynb>data table notebook</a>'\n",
              "            + ' to learn more about interactive tables.';\n",
              "          element.innerHTML = '';\n",
              "          dataTable['output_type'] = 'display_data';\n",
              "          await google.colab.output.renderOutput(dataTable, element);\n",
              "          const docLink = document.createElement('div');\n",
              "          docLink.innerHTML = docLinkHtml;\n",
              "          element.appendChild(docLink);\n",
              "        }\n",
              "      </script>\n",
              "    </div>\n",
              "  </div>\n",
              "  "
            ]
          },
          "metadata": {},
          "execution_count": 37
        }
      ]
    },
    {
      "cell_type": "code",
      "source": [
        "ipl.columns"
      ],
      "metadata": {
        "id": "TBLIqzf1D28Y",
        "colab": {
          "base_uri": "https://localhost:8080/"
        },
        "outputId": "1634e58f-819b-4fac-d616-503f11191fd3"
      },
      "execution_count": null,
      "outputs": [
        {
          "output_type": "execute_result",
          "data": {
            "text/plain": [
              "Index(['Id', 'Date', 'Versus', 'Ground', 'D/N', 'How Dismissed', 'Runs', 'B/F',\n",
              "       'S/R', 'Fielder', 'Bowler', 'Year'],\n",
              "      dtype='object')"
            ]
          },
          "metadata": {},
          "execution_count": 38
        }
      ]
    },
    {
      "cell_type": "code",
      "source": [
        "ipl['How Dismissed'][3]"
      ],
      "metadata": {
        "id": "YYnxbZCwuj9K",
        "colab": {
          "base_uri": "https://localhost:8080/",
          "height": 35
        },
        "outputId": "eed4594d-b36c-4a67-c401-1c3a1e26a88e"
      },
      "execution_count": null,
      "outputs": [
        {
          "output_type": "execute_result",
          "data": {
            "text/plain": [
              "'did not bat '"
            ],
            "application/vnd.google.colaboratory.intrinsic+json": {
              "type": "string"
            }
          },
          "metadata": {},
          "execution_count": 39
        }
      ]
    },
    {
      "cell_type": "code",
      "source": [
        "ipl['hasBatted'] = np.where(ipl['How Dismissed']== 'did not bat ','No','Yes')"
      ],
      "metadata": {
        "id": "m5ToEQVmta-i"
      },
      "execution_count": null,
      "outputs": []
    },
    {
      "cell_type": "code",
      "source": [
        "ipl.drop(ipl[['Date', 'How Dismissed', 'Fielder']],axis=1,inplace=True)"
      ],
      "metadata": {
        "id": "O4wnRhElFhyI"
      },
      "execution_count": null,
      "outputs": []
    },
    {
      "cell_type": "code",
      "source": [
        "ipl.to_csv('IPL_Data_Cleaned.csv')"
      ],
      "metadata": {
        "id": "inEX-LWLGCRq"
      },
      "execution_count": null,
      "outputs": []
    },
    {
      "cell_type": "code",
      "source": [
        "ipl.head()"
      ],
      "metadata": {
        "id": "0mlVEUSquLro",
        "colab": {
          "base_uri": "https://localhost:8080/",
          "height": 206
        },
        "outputId": "397f578d-ebdc-4ae0-f049-5abe95e7929c"
      },
      "execution_count": null,
      "outputs": [
        {
          "output_type": "execute_result",
          "data": {
            "text/plain": [
              "   Id                  Versus                               Ground D/N Runs  \\\n",
              "0   1  Kolkata Knight Riders                         Eden Gardens    ✓    0   \n",
              "1   2         Delhi Capitals   Rajiv Gandhi International Stadium    ✓   66   \n",
              "2   3       Rajasthan Royals   Rajiv Gandhi International Stadium    ✓   36   \n",
              "3   4         Mumbai Indians           Dr DY Patil Sports Academy    ✓    -   \n",
              "4   5           Punjab Kings   Rajiv Gandhi International Stadium    ✓  76*   \n",
              "\n",
              "  B/F     S/R      Bowler  Year hasBatted  \n",
              "0   3    0.00   M Kartik   2008       Yes  \n",
              "1  36  183.33   R Bhatia   2008       Yes  \n",
              "2  30  120.00  S K Warne   2008       Yes  \n",
              "3   -       -        None  2008        No  \n",
              "4  42  180.95        None  2008       Yes  "
            ],
            "text/html": [
              "\n",
              "  <div id=\"df-57bdf85c-e886-4f1b-bbbb-ddf5f22cd4f0\">\n",
              "    <div class=\"colab-df-container\">\n",
              "      <div>\n",
              "<style scoped>\n",
              "    .dataframe tbody tr th:only-of-type {\n",
              "        vertical-align: middle;\n",
              "    }\n",
              "\n",
              "    .dataframe tbody tr th {\n",
              "        vertical-align: top;\n",
              "    }\n",
              "\n",
              "    .dataframe thead th {\n",
              "        text-align: right;\n",
              "    }\n",
              "</style>\n",
              "<table border=\"1\" class=\"dataframe\">\n",
              "  <thead>\n",
              "    <tr style=\"text-align: right;\">\n",
              "      <th></th>\n",
              "      <th>Id</th>\n",
              "      <th>Versus</th>\n",
              "      <th>Ground</th>\n",
              "      <th>D/N</th>\n",
              "      <th>Runs</th>\n",
              "      <th>B/F</th>\n",
              "      <th>S/R</th>\n",
              "      <th>Bowler</th>\n",
              "      <th>Year</th>\n",
              "      <th>hasBatted</th>\n",
              "    </tr>\n",
              "  </thead>\n",
              "  <tbody>\n",
              "    <tr>\n",
              "      <th>0</th>\n",
              "      <td>1</td>\n",
              "      <td>Kolkata Knight Riders</td>\n",
              "      <td>Eden Gardens</td>\n",
              "      <td>✓</td>\n",
              "      <td>0</td>\n",
              "      <td>3</td>\n",
              "      <td>0.00</td>\n",
              "      <td>M Kartik</td>\n",
              "      <td>2008</td>\n",
              "      <td>Yes</td>\n",
              "    </tr>\n",
              "    <tr>\n",
              "      <th>1</th>\n",
              "      <td>2</td>\n",
              "      <td>Delhi Capitals</td>\n",
              "      <td>Rajiv Gandhi International Stadium</td>\n",
              "      <td>✓</td>\n",
              "      <td>66</td>\n",
              "      <td>36</td>\n",
              "      <td>183.33</td>\n",
              "      <td>R Bhatia</td>\n",
              "      <td>2008</td>\n",
              "      <td>Yes</td>\n",
              "    </tr>\n",
              "    <tr>\n",
              "      <th>2</th>\n",
              "      <td>3</td>\n",
              "      <td>Rajasthan Royals</td>\n",
              "      <td>Rajiv Gandhi International Stadium</td>\n",
              "      <td>✓</td>\n",
              "      <td>36</td>\n",
              "      <td>30</td>\n",
              "      <td>120.00</td>\n",
              "      <td>S K Warne</td>\n",
              "      <td>2008</td>\n",
              "      <td>Yes</td>\n",
              "    </tr>\n",
              "    <tr>\n",
              "      <th>3</th>\n",
              "      <td>4</td>\n",
              "      <td>Mumbai Indians</td>\n",
              "      <td>Dr DY Patil Sports Academy</td>\n",
              "      <td>✓</td>\n",
              "      <td>-</td>\n",
              "      <td>-</td>\n",
              "      <td>-</td>\n",
              "      <td>None</td>\n",
              "      <td>2008</td>\n",
              "      <td>No</td>\n",
              "    </tr>\n",
              "    <tr>\n",
              "      <th>4</th>\n",
              "      <td>5</td>\n",
              "      <td>Punjab Kings</td>\n",
              "      <td>Rajiv Gandhi International Stadium</td>\n",
              "      <td>✓</td>\n",
              "      <td>76*</td>\n",
              "      <td>42</td>\n",
              "      <td>180.95</td>\n",
              "      <td>None</td>\n",
              "      <td>2008</td>\n",
              "      <td>Yes</td>\n",
              "    </tr>\n",
              "  </tbody>\n",
              "</table>\n",
              "</div>\n",
              "      <button class=\"colab-df-convert\" onclick=\"convertToInteractive('df-57bdf85c-e886-4f1b-bbbb-ddf5f22cd4f0')\"\n",
              "              title=\"Convert this dataframe to an interactive table.\"\n",
              "              style=\"display:none;\">\n",
              "        \n",
              "  <svg xmlns=\"http://www.w3.org/2000/svg\" height=\"24px\"viewBox=\"0 0 24 24\"\n",
              "       width=\"24px\">\n",
              "    <path d=\"M0 0h24v24H0V0z\" fill=\"none\"/>\n",
              "    <path d=\"M18.56 5.44l.94 2.06.94-2.06 2.06-.94-2.06-.94-.94-2.06-.94 2.06-2.06.94zm-11 1L8.5 8.5l.94-2.06 2.06-.94-2.06-.94L8.5 2.5l-.94 2.06-2.06.94zm10 10l.94 2.06.94-2.06 2.06-.94-2.06-.94-.94-2.06-.94 2.06-2.06.94z\"/><path d=\"M17.41 7.96l-1.37-1.37c-.4-.4-.92-.59-1.43-.59-.52 0-1.04.2-1.43.59L10.3 9.45l-7.72 7.72c-.78.78-.78 2.05 0 2.83L4 21.41c.39.39.9.59 1.41.59.51 0 1.02-.2 1.41-.59l7.78-7.78 2.81-2.81c.8-.78.8-2.07 0-2.86zM5.41 20L4 18.59l7.72-7.72 1.47 1.35L5.41 20z\"/>\n",
              "  </svg>\n",
              "      </button>\n",
              "      \n",
              "  <style>\n",
              "    .colab-df-container {\n",
              "      display:flex;\n",
              "      flex-wrap:wrap;\n",
              "      gap: 12px;\n",
              "    }\n",
              "\n",
              "    .colab-df-convert {\n",
              "      background-color: #E8F0FE;\n",
              "      border: none;\n",
              "      border-radius: 50%;\n",
              "      cursor: pointer;\n",
              "      display: none;\n",
              "      fill: #1967D2;\n",
              "      height: 32px;\n",
              "      padding: 0 0 0 0;\n",
              "      width: 32px;\n",
              "    }\n",
              "\n",
              "    .colab-df-convert:hover {\n",
              "      background-color: #E2EBFA;\n",
              "      box-shadow: 0px 1px 2px rgba(60, 64, 67, 0.3), 0px 1px 3px 1px rgba(60, 64, 67, 0.15);\n",
              "      fill: #174EA6;\n",
              "    }\n",
              "\n",
              "    [theme=dark] .colab-df-convert {\n",
              "      background-color: #3B4455;\n",
              "      fill: #D2E3FC;\n",
              "    }\n",
              "\n",
              "    [theme=dark] .colab-df-convert:hover {\n",
              "      background-color: #434B5C;\n",
              "      box-shadow: 0px 1px 3px 1px rgba(0, 0, 0, 0.15);\n",
              "      filter: drop-shadow(0px 1px 2px rgba(0, 0, 0, 0.3));\n",
              "      fill: #FFFFFF;\n",
              "    }\n",
              "  </style>\n",
              "\n",
              "      <script>\n",
              "        const buttonEl =\n",
              "          document.querySelector('#df-57bdf85c-e886-4f1b-bbbb-ddf5f22cd4f0 button.colab-df-convert');\n",
              "        buttonEl.style.display =\n",
              "          google.colab.kernel.accessAllowed ? 'block' : 'none';\n",
              "\n",
              "        async function convertToInteractive(key) {\n",
              "          const element = document.querySelector('#df-57bdf85c-e886-4f1b-bbbb-ddf5f22cd4f0');\n",
              "          const dataTable =\n",
              "            await google.colab.kernel.invokeFunction('convertToInteractive',\n",
              "                                                     [key], {});\n",
              "          if (!dataTable) return;\n",
              "\n",
              "          const docLinkHtml = 'Like what you see? Visit the ' +\n",
              "            '<a target=\"_blank\" href=https://colab.research.google.com/notebooks/data_table.ipynb>data table notebook</a>'\n",
              "            + ' to learn more about interactive tables.';\n",
              "          element.innerHTML = '';\n",
              "          dataTable['output_type'] = 'display_data';\n",
              "          await google.colab.output.renderOutput(dataTable, element);\n",
              "          const docLink = document.createElement('div');\n",
              "          docLink.innerHTML = docLinkHtml;\n",
              "          element.appendChild(docLink);\n",
              "        }\n",
              "      </script>\n",
              "    </div>\n",
              "  </div>\n",
              "  "
            ]
          },
          "metadata": {},
          "execution_count": 43
        }
      ]
    },
    {
      "cell_type": "code",
      "source": [
        "\n",
        "def clean_data(format,filename):\n",
        "  data=pd.read_csv(filename)\n",
        "  empty_cols=[col for col in data.columns if col==\" \"]\n",
        "  data.drop(data[empty_cols],axis=1,inplace=True)  \n",
        "  data.drop(data[['Aggr', 'Avg', 'S/R.1']],axis=1,inplace=True)\n",
        "  data[['Fielder','Bowler']] = data['How Dismissed'].str.split(' b |b ',n=1,expand=True)\n",
        "  data['Date'] = pd.to_datetime(data['Date'], errors='coerce') \n",
        "  data['Year'] = data['Date'].dt.year\n",
        "  data['hasBatted'] = np.where(data['How Dismissed']== 'did not bat','No','Yes')\n",
        "  data.drop(data[['Date', 'How Dismissed', 'Fielder']],axis=1,inplace=True)\n",
        "  filename=format+\"_Data_Cleaned.csv\"\n",
        "  data.to_csv(filename)\n",
        "\n",
        "format=\"ODI\"\n",
        "filename=\"/content/Rohit_Sharma_ODI.csv\"\n"
      ],
      "metadata": {
        "id": "OXoQWGQf-SYj"
      },
      "execution_count": null,
      "outputs": []
    },
    {
      "cell_type": "code",
      "source": [
        "\n",
        "def clean_data(format,filename):\n",
        "  data=pd.read_csv(filename)\n",
        "  empty_cols=[col for col in data.columns if col==\" \"]\n",
        "  data.drop(data[empty_cols],axis=1,inplace=True)  \n",
        "  data.drop(data[['Aggr', 'Avg', 'S/R.1']],axis=1,inplace=True)\n",
        "  data[['Fielder','Bowler']] = data['How Dismissed'].str.split(' b |b ',n=1,expand=True)\n",
        "  data['Date'] = pd.to_datetime(data['Date'], errors='coerce') \n",
        "  data['Year'] = data['Date'].dt.year\n",
        "  data['hasBatted'] = np.where(data['How Dismissed']== 'did not bat ','No','Yes')\n",
        "  data.drop(data[['Date', 'How Dismissed', 'Fielder']],axis=1,inplace=True)\n",
        "  filename=format+\"_Data_Cleaned.csv\"\n",
        "  data.to_csv(filename)\n",
        "\n",
        "format=\"T20\"\n",
        "filename=\"/content/Rohit_Sharma_T20.csv\"\n"
      ],
      "metadata": {
        "id": "vC4CfRX8DYdr"
      },
      "execution_count": null,
      "outputs": []
    },
    {
      "cell_type": "code",
      "source": [
        "\n",
        "def clean_data(format,filename):\n",
        "  data=pd.read_csv(filename)\n",
        "  empty_cols=[col for col in data.columns if col==\" \"]\n",
        "  data.drop(data[empty_cols],axis=1,inplace=True)  \n",
        "  data.drop(data[['Aggr', 'Avg', 'S/R.1']],axis=1,inplace=True)\n",
        "  data[['Fielder','Bowler']] = data['How Dismissed'].str.split(' b |b ',n=1,expand=True)\n",
        "  data['Date'] = pd.to_datetime(data['Date'], errors='coerce') \n",
        "  data['Year'] = data['Date'].dt.year\n",
        "  data['hasBatted'] = np.where(data['How Dismissed']== 'did not bat ','No','Yes')\n",
        "  data.drop(data[['Date', 'How Dismissed', 'Fielder']],axis=1,inplace=True)\n",
        "  filename=format+\"_Data_Cleaned.csv\"\n",
        "  data.to_csv(filename)\n",
        "\n",
        "format=\"IPL\"\n",
        "filename=\"/content/Rohit_Sharma_IPL.csv\"\n"
      ],
      "metadata": {
        "id": "oFs8zKCvl46q"
      },
      "execution_count": null,
      "outputs": []
    },
    {
      "cell_type": "code",
      "source": [
        ""
      ],
      "metadata": {
        "id": "KuGUt_e1mDkw"
      },
      "execution_count": null,
      "outputs": []
    }
  ]
}